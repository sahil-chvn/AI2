{
 "cells": [
  {
   "cell_type": "code",
   "execution_count": 22,
   "metadata": {},
   "outputs": [],
   "source": [
    "# import spaCy and load the English library\n",
    "\n",
    "import spacy\n",
    "nlp = spacy.load(\"en_core_web_sm\")"
   ]
  },
  {
   "cell_type": "code",
   "execution_count": 23,
   "metadata": {},
   "outputs": [],
   "source": [
    "tex = open(\"sample1.txt\")\n",
    "tex_doc = tex.read()"
   ]
  },
  {
   "cell_type": "code",
   "execution_count": 25,
   "metadata": {},
   "outputs": [
    {
     "name": "stdout",
     "output_type": "stream",
     "text": [
      "Ireland's economy is now booming and it's growth is now the highest in Europe with 7.8%, and the value of the Irish economy is now close to â‚¬300 billion.\n"
     ]
    }
   ],
   "source": [
    "print(tex_doc)"
   ]
  },
  {
   "cell_type": "code",
   "execution_count": 26,
   "metadata": {},
   "outputs": [],
   "source": [
    "doc_object = nlp(tex_doc)"
   ]
  },
  {
   "cell_type": "code",
   "execution_count": 27,
   "metadata": {},
   "outputs": [
    {
     "name": "stdout",
     "output_type": "stream",
     "text": [
      "Ireland PROPN poss Xxxxx\n",
      "'s PART case 'x\n",
      "economy NOUN nsubj xxxx\n",
      "is AUX aux xx\n",
      "now ADV advmod xxx\n",
      "booming VERB ROOT xxxx\n",
      "and CCONJ cc xxx\n",
      "it PRON nsubj xx\n",
      "'s AUX conj 'x\n",
      "growth NOUN attr xxxx\n",
      "is AUX conj xx\n",
      "now ADV advmod xxx\n",
      "the DET det xxx\n",
      "highest ADJ attr xxxx\n",
      "in ADP prep xx\n",
      "Europe PROPN pobj Xxxxx\n",
      "with ADP prep xxxx\n",
      "7.8 NUM nummod d.d\n",
      "% NOUN pobj %\n",
      ", PUNCT punct ,\n",
      "and CCONJ cc xxx\n",
      "the DET det xxx\n",
      "value NOUN nsubj xxxx\n",
      "of ADP prep xx\n",
      "the DET det xxx\n",
      "Irish ADJ amod Xxxxx\n",
      "economy NOUN pobj xxxx\n",
      "is AUX conj xx\n",
      "now ADV advmod xxx\n",
      "close ADJ acomp xxxx\n",
      "to ADP prep xx\n",
      "â‚¬300 NUM compound x‚¬ddd\n",
      "billion NUM pobj xxxx\n",
      ". PUNCT punct .\n"
     ]
    }
   ],
   "source": [
    "#pint each token individually\n",
    "for token in doc_object:\n",
    "    #show token\n",
    "    print(token.text, token.pos_, token.dep_, token.shape_)\n",
    "    "
   ]
  },
  {
   "cell_type": "code",
   "execution_count": 28,
   "metadata": {},
   "outputs": [
    {
     "data": {
      "text/plain": [
       "'adposition'"
      ]
     },
     "execution_count": 28,
     "metadata": {},
     "output_type": "execute_result"
    }
   ],
   "source": [
    "spacy.explain(\"ADP\")"
   ]
  },
  {
   "cell_type": "code",
   "execution_count": 29,
   "metadata": {},
   "outputs": [],
   "source": [
    "doc_object = nlp(u\"All the world\\'s a stage. And all the men and women are merely players. They have their exits and entrances; And  one man in his time plays many parts. - Shakespeare\")"
   ]
  },
  {
   "cell_type": "code",
   "execution_count": 30,
   "metadata": {},
   "outputs": [
    {
     "name": "stdout",
     "output_type": "stream",
     "text": [
      "And all the men and women are merely players\n"
     ]
    }
   ],
   "source": [
    "#Span \n",
    "sentence = doc_object[7:16]\n",
    "print(sentence)"
   ]
  },
  {
   "cell_type": "code",
   "execution_count": 31,
   "metadata": {},
   "outputs": [
    {
     "data": {
      "text/plain": [
       "spacy.tokens.span.Span"
      ]
     },
     "execution_count": 31,
     "metadata": {},
     "output_type": "execute_result"
    }
   ],
   "source": [
    "type(sentence)"
   ]
  },
  {
   "cell_type": "code",
   "execution_count": 32,
   "metadata": {},
   "outputs": [
    {
     "name": "stdout",
     "output_type": "stream",
     "text": [
      "All the world's a stage.\n",
      "And all the men and women are merely players.\n",
      "They have their exits and entrances; And  one man in his time plays many parts.\n",
      "- Shakespeare\n"
     ]
    }
   ],
   "source": [
    "for sentence in doc_object.sents:\n",
    "    print(sentence)"
   ]
  },
  {
   "cell_type": "code",
   "execution_count": 33,
   "metadata": {},
   "outputs": [
    {
     "data": {
      "text/plain": [
       "And"
      ]
     },
     "execution_count": 33,
     "metadata": {},
     "output_type": "execute_result"
    }
   ],
   "source": [
    "doc_object[7]"
   ]
  },
  {
   "cell_type": "code",
   "execution_count": 34,
   "metadata": {},
   "outputs": [
    {
     "data": {
      "text/plain": [
       "True"
      ]
     },
     "execution_count": 34,
     "metadata": {},
     "output_type": "execute_result"
    }
   ],
   "source": [
    "doc_object[7].is_sent_start"
   ]
  },
  {
   "cell_type": "code",
   "execution_count": 35,
   "metadata": {},
   "outputs": [],
   "source": [
    "doc_object[8].is_sent_start"
   ]
  },
  {
   "cell_type": "code",
   "execution_count": 38,
   "metadata": {},
   "outputs": [
    {
     "name": "stdout",
     "output_type": "stream",
     "text": [
      "True  All\n",
      "None  the\n",
      "None  world\n",
      "None  's\n",
      "None  a\n",
      "None  stage\n",
      "None  .\n",
      "True  And\n",
      "None  all\n",
      "None  the\n",
      "None  men\n",
      "None  and\n",
      "None  women\n",
      "None  are\n",
      "None  merely\n",
      "None  players\n",
      "None  .\n",
      "True  They\n",
      "None  have\n",
      "None  their\n",
      "None  exits\n",
      "None  and\n",
      "None  entrances\n",
      "None  ;\n",
      "None  And\n",
      "None   \n",
      "None  one\n",
      "None  man\n",
      "None  in\n",
      "None  his\n",
      "None  time\n",
      "None  plays\n",
      "None  many\n",
      "None  parts\n",
      "None  .\n",
      "True  -\n",
      "None  Shakespeare\n"
     ]
    }
   ],
   "source": [
    "for token in doc_object:\n",
    "    print(token.is_sent_start, '', token.text)"
   ]
  },
  {
   "cell_type": "code",
   "execution_count": 39,
   "metadata": {},
   "outputs": [
    {
     "data": {
      "text/plain": [
       "All the world's a stage. And all the men and women are merely players. They have their exits and entrances; And  one man in his time plays many parts. -"
      ]
     },
     "execution_count": 39,
     "metadata": {},
     "output_type": "execute_result"
    }
   ],
   "source": [
    "doc_object[:-1]"
   ]
  },
  {
   "cell_type": "code",
   "execution_count": 40,
   "metadata": {},
   "outputs": [
    {
     "name": "stdout",
     "output_type": "stream",
     "text": [
      "0 All\n",
      "1 the\n",
      "2 world\n",
      "3 's\n",
      "4 a\n",
      "5 stage\n",
      "6 .\n",
      "7 And\n",
      "8 all\n",
      "9 the\n",
      "10 men\n",
      "11 and\n",
      "12 women\n",
      "13 are\n",
      "14 merely\n",
      "15 players\n",
      "16 .\n",
      "17 They\n",
      "18 have\n",
      "19 their\n",
      "20 exits\n",
      "21 and\n",
      "22 entrances\n",
      "23 ;\n",
      "24 And\n",
      "25  \n",
      "26 one\n",
      "27 man\n",
      "28 in\n",
      "29 his\n",
      "30 time\n",
      "31 plays\n",
      "32 many\n",
      "33 parts\n",
      "34 .\n",
      "35 -\n",
      "36 Shakespeare\n"
     ]
    }
   ],
   "source": [
    "for token in doc_object:\n",
    "    print(token.i, token.text)"
   ]
  },
  {
   "cell_type": "code",
   "execution_count": 43,
   "metadata": {},
   "outputs": [],
   "source": [
    "# function to add new segmentation rule\n",
    "\n",
    "def create_custom_sentence_boundary(document_obj):\n",
    "    #check each word up until the second last word\n",
    "    for token in document_obj[:-1]:\n",
    "        #if the token = \";\" then set the next token as start token\n",
    "        if token.text == \";\":\n",
    "            document_obj[token.i+1].is_sent_start = True\n",
    "            return(document_obj)"
   ]
  },
  {
   "cell_type": "code",
   "execution_count": null,
   "metadata": {},
   "outputs": [],
   "source": []
  }
 ],
 "metadata": {
  "kernelspec": {
   "display_name": "Python 3",
   "language": "python",
   "name": "python3"
  },
  "language_info": {
   "codemirror_mode": {
    "name": "ipython",
    "version": 3
   },
   "file_extension": ".py",
   "mimetype": "text/x-python",
   "name": "python",
   "nbconvert_exporter": "python",
   "pygments_lexer": "ipython3",
   "version": "3.7.6"
  }
 },
 "nbformat": 4,
 "nbformat_minor": 2
}
